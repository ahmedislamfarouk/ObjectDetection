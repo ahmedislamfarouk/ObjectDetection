{
 "cells": [
  {
   "cell_type": "code",
   "execution_count": null,
   "id": "252f83fe",
   "metadata": {},
   "outputs": [],
   "source": [
    "#imports all necessary libraries\n",
    "import torch\n",
    "import cv2\n",
    "import numpy as np\n",
    "import matplotlib.pyplot as plt\n",
    "from PIL import Image\n",
    "import os\n",
    "from ultralytics import YOLO\n",
    "import time\n"
   ]
  },
  {
   "cell_type": "code",
   "execution_count": 1,
   "id": "50ad7d56",
   "metadata": {},
   "outputs": [
    {
     "name": "stderr",
     "output_type": "stream",
     "text": [
      "40.41s - pydevd: Sending message related to process being replaced timed-out after 5 seconds\n"
     ]
    },
    {
     "name": "stdout",
     "output_type": "stream",
     "text": [
      "Ultralytics 8.3.102 🚀 Python-3.9.18 torch-2.5.0+cu124 CUDA:0 (NVIDIA RTX A4000, 15985MiB)\n",
      "\u001b[34m\u001b[1mengine/trainer: \u001b[0mtask=detect, mode=train, model=yolov8m.pt, data=data.yaml, epochs=20, time=None, patience=100, batch=16, imgsz=640, save=True, save_period=-1, cache=False, device=None, workers=8, project=None, name=train4, exist_ok=False, pretrained=True, optimizer=auto, verbose=True, seed=0, deterministic=True, single_cls=False, rect=False, cos_lr=False, close_mosaic=10, resume=False, amp=True, fraction=1.0, profile=False, freeze=None, multi_scale=False, overlap_mask=True, mask_ratio=4, dropout=0.0, val=True, split=val, save_json=False, save_hybrid=False, conf=None, iou=0.7, max_det=300, half=False, dnn=False, plots=True, source=None, vid_stride=1, stream_buffer=False, visualize=False, augment=False, agnostic_nms=False, classes=None, retina_masks=False, embed=None, show=False, save_frames=False, save_txt=False, save_conf=False, save_crop=False, show_labels=True, show_conf=True, show_boxes=True, line_width=None, format=torchscript, keras=False, optimize=False, int8=False, dynamic=False, simplify=True, opset=None, workspace=None, nms=False, lr0=0.01, lrf=0.01, momentum=0.937, weight_decay=0.0005, warmup_epochs=3.0, warmup_momentum=0.8, warmup_bias_lr=0.1, box=7.5, cls=0.5, dfl=1.5, pose=12.0, kobj=1.0, nbs=64, hsv_h=0.015, hsv_s=0.7, hsv_v=0.4, degrees=0.0, translate=0.1, scale=0.5, shear=0.0, perspective=0.0, flipud=0.0, fliplr=0.5, bgr=0.0, mosaic=1.0, mixup=0.0, copy_paste=0.0, copy_paste_mode=flip, auto_augment=randaugment, erasing=0.4, crop_fraction=1.0, cfg=None, tracker=botsort.yaml, save_dir=runs/detect/train4\n",
      "Traceback (most recent call last):\n",
      "  File \"/home/aiu-lambda2/anaconda3/lib/python3.9/site-packages/ultralytics/engine/trainer.py\", line 582, in get_dataset\n",
      "    data = check_det_dataset(self.args.data)\n",
      "  File \"/home/aiu-lambda2/anaconda3/lib/python3.9/site-packages/ultralytics/data/utils.py\", line 372, in check_det_dataset\n",
      "    raise FileNotFoundError(m)\n",
      "FileNotFoundError: \n",
      "Dataset 'data.yaml' images not found ⚠️, missing path '/home/aiu-lambda2/Desktop/JMU-AIU-Object-Detection/Traffic-Dataset/val/images'\n",
      "Note dataset download directory is '/home/aiu-lambda2/datasets'. You can update this in '/home/aiu-lambda2/.config/Ultralytics/settings.json'\n",
      "\n",
      "The above exception was the direct cause of the following exception:\n",
      "\n",
      "Traceback (most recent call last):\n",
      "  File \"/home/aiu-lambda2/anaconda3/bin/yolo\", line 8, in <module>\n",
      "    sys.exit(entrypoint())\n",
      "  File \"/home/aiu-lambda2/anaconda3/lib/python3.9/site-packages/ultralytics/cfg/__init__.py\", line 987, in entrypoint\n",
      "    getattr(model, mode)(**overrides)  # default args from model\n",
      "  File \"/home/aiu-lambda2/anaconda3/lib/python3.9/site-packages/ultralytics/engine/model.py\", line 785, in train\n",
      "    self.trainer = (trainer or self._smart_load(\"trainer\"))(overrides=args, _callbacks=self.callbacks)\n",
      "  File \"/home/aiu-lambda2/anaconda3/lib/python3.9/site-packages/ultralytics/engine/trainer.py\", line 137, in __init__\n",
      "    self.trainset, self.testset = self.get_dataset()\n",
      "  File \"/home/aiu-lambda2/anaconda3/lib/python3.9/site-packages/ultralytics/engine/trainer.py\", line 586, in get_dataset\n",
      "    raise RuntimeError(emojis(f\"Dataset '{clean_url(self.args.data)}' error ❌ {e}\")) from e\n",
      "RuntimeError: Dataset 'data.yaml' error ❌ \n",
      "Dataset 'data.yaml' images not found ⚠️, missing path '/home/aiu-lambda2/Desktop/JMU-AIU-Object-Detection/Traffic-Dataset/val/images'\n",
      "Note dataset download directory is '/home/aiu-lambda2/datasets'. You can update this in '/home/aiu-lambda2/.config/Ultralytics/settings.json'\n"
     ]
    }
   ],
   "source": [
    "!yolo task=detect mode=train model = yolov8m.pt data=data.yaml epochs=20 imgsz=640 "
   ]
  }
 ],
 "metadata": {
  "kernelspec": {
   "display_name": "base",
   "language": "python",
   "name": "python3"
  },
  "language_info": {
   "codemirror_mode": {
    "name": "ipython",
    "version": 3
   },
   "file_extension": ".py",
   "mimetype": "text/x-python",
   "name": "python",
   "nbconvert_exporter": "python",
   "pygments_lexer": "ipython3",
   "version": "3.9.18"
  }
 },
 "nbformat": 4,
 "nbformat_minor": 5
}
